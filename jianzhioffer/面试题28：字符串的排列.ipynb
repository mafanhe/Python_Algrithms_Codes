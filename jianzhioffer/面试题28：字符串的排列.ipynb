{
 "cells": [
  {
   "cell_type": "markdown",
   "metadata": {},
   "source": [
    "## 面试题28：字符串的排列"
   ]
  },
  {
   "cell_type": "code",
   "execution_count": 1,
   "metadata": {
    "collapsed": true
   },
   "outputs": [],
   "source": [
    "#  方法一\n",
    "def permutation(input):\n",
    "\tpermut('', list(input))\n",
    "\n",
    "\n",
    "def permut(result, string):\n",
    "\tif len(string) == 0:\n",
    "\t\tprint result\n",
    "\tfor i in range(len(string)):\n",
    "\t\tstring[i], string[0] = string[0], string[i]\n",
    "\t\tpermut(result+string[0], string[1:])\n"
   ]
  },
  {
   "cell_type": "markdown",
   "metadata": {},
   "source": [
    "#### 例子"
   ]
  },
  {
   "cell_type": "code",
   "execution_count": 2,
   "metadata": {
    "collapsed": false
   },
   "outputs": [
    {
     "name": "stdout",
     "output_type": "stream",
     "text": [
      "abc\n",
      "acb\n",
      "bac\n",
      "bca\n",
      "cab\n",
      "cba\n"
     ]
    }
   ],
   "source": [
    "permutation('abc')"
   ]
  },
  {
   "cell_type": "code",
   "execution_count": 3,
   "metadata": {
    "collapsed": true
   },
   "outputs": [],
   "source": [
    "# 方法二\n",
    "def permut2(string, begin):\n",
    "\n",
    "\tif begin == 2:\n",
    "\t\tprint string\n",
    "\t\treturn\n",
    "\tfor i in range(begin, len(string)):\n",
    "\t\tstring[i], string[begin] = string[begin], string[i]\n",
    "\t\tpermut2(string, begin+1)\n",
    "\t\tstring[i], string[begin] = string[begin], string[i]"
   ]
  },
  {
   "cell_type": "markdown",
   "metadata": {},
   "source": [
    "## 本题扩展：组合"
   ]
  },
  {
   "cell_type": "code",
   "execution_count": 4,
   "metadata": {
    "collapsed": true
   },
   "outputs": [],
   "source": [
    "# 字符串的组合\n",
    "def combination(com, left):\n",
    "\tprint com\n",
    "\tif not left:\n",
    "\t\treturn\n",
    "\tfor i in range(len(left)):\n",
    "\t\tif left[i] in com:\n",
    "\t\t\tcombination(com, left[i+1:])\n",
    "\t\telse:\n",
    "\t\t\tcombination(com+left[i], left[i+1:])"
   ]
  },
  {
   "cell_type": "markdown",
   "metadata": {},
   "source": [
    "#### 例子"
   ]
  },
  {
   "cell_type": "code",
   "execution_count": 5,
   "metadata": {
    "collapsed": false
   },
   "outputs": [
    {
     "name": "stdout",
     "output_type": "stream",
     "text": [
      "\n",
      "a\n",
      "ab\n",
      "abc\n",
      "ac\n",
      "b\n",
      "bc\n",
      "c\n"
     ]
    }
   ],
   "source": [
    "combination('','abc')"
   ]
  }
 ],
 "metadata": {
  "kernelspec": {
   "display_name": "Python 2",
   "language": "python",
   "name": "python2"
  },
  "language_info": {
   "codemirror_mode": {
    "name": "ipython",
    "version": 2
   },
   "file_extension": ".py",
   "mimetype": "text/x-python",
   "name": "python",
   "nbconvert_exporter": "python",
   "pygments_lexer": "ipython2",
   "version": "2.7.6"
  }
 },
 "nbformat": 4,
 "nbformat_minor": 1
}
