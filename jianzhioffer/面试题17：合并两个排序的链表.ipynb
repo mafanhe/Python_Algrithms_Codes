{
 "cells": [
  {
   "cell_type": "code",
   "execution_count": 4,
   "metadata": {
    "collapsed": true
   },
   "outputs": [],
   "source": [
    "from ListNode import *\n",
    "def merge_two_sorted_list(ln1, ln2):\n",
    "\tp1 = ln1\n",
    "\tp2 = ln2\n",
    "\thead = ListNode(-1)\n",
    "\tp = head\n",
    "\twhile p1 and p2:\n",
    "\t\tif p1.value < p2.value:\n",
    "\t\t\tp.next = p1\n",
    "\t\t\tp1 = p1.next\n",
    "\t\telse:\n",
    "\t\t\tp.next = p2\n",
    "\t\t\tp2 = p2.next\n",
    "\t\tp = p.next\n",
    "\n",
    "\tif p1:\n",
    "\t\tp.next = p1\n",
    "\n",
    "\tif p2:\n",
    "\t\tp.next = p2\n",
    "\treturn head"
   ]
  },
  {
   "cell_type": "code",
   "execution_count": 6,
   "metadata": {
    "collapsed": false
   },
   "outputs": [
    {
     "name": "stdout",
     "output_type": "stream",
     "text": [
      "1 -> 3 -> 5 -> 7 -> 9 -> None\n",
      "2 -> 4 -> 6 -> None\n",
      "1 -> 2 -> 3 -> 4 -> 5 -> 6 -> 7 -> 9 -> None\n"
     ]
    }
   ],
   "source": [
    "ln1 = ListNode(1, ListNode(3, ListNode(5, ListNode(7, ListNode(9)))))\n",
    "ln2 = ListNode(2, ListNode(4, ListNode(6)))\n",
    "printNode(ln1)\n",
    "printNode(ln2)\n",
    "p = merge_two_sorted_list(ln1, ln2)\n",
    "# p = merge_two_sorted_list(None, None)\n",
    "printNode(p.next)"
   ]
  },
  {
   "cell_type": "code",
   "execution_count": null,
   "metadata": {
    "collapsed": true
   },
   "outputs": [],
   "source": []
  }
 ],
 "metadata": {
  "kernelspec": {
   "display_name": "Python 2",
   "language": "python",
   "name": "python2"
  },
  "language_info": {
   "codemirror_mode": {
    "name": "ipython",
    "version": 2
   },
   "file_extension": ".py",
   "mimetype": "text/x-python",
   "name": "python",
   "nbconvert_exporter": "python",
   "pygments_lexer": "ipython2",
   "version": "2.7.6"
  }
 },
 "nbformat": 4,
 "nbformat_minor": 1
}
